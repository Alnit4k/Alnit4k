{
  "nbformat": 4,
  "nbformat_minor": 0,
  "metadata": {
    "colab": {
      "private_outputs": true,
      "provenance": [],
      "authorship_tag": "ABX9TyMeVpujqilZ7fMCSGDvVPZp",
      "include_colab_link": true
    },
    "kernelspec": {
      "name": "python3",
      "display_name": "Python 3"
    },
    "language_info": {
      "name": "python"
    }
  },
  "cells": [
    {
      "cell_type": "markdown",
      "metadata": {
        "id": "view-in-github",
        "colab_type": "text"
      },
      "source": [
        "<a href=\"https://colab.research.google.com/github/Alnit4k/Alnit4k/blob/main/weather.ipynb\" target=\"_parent\"><img src=\"https://colab.research.google.com/assets/colab-badge.svg\" alt=\"Open In Colab\"/></a>"
      ]
    },
    {
      "cell_type": "markdown",
      "source": [
        "Importing library pandas and renamed as \"pd\""
      ],
      "metadata": {
        "id": "0i_OdWOCbKGC"
      }
    },
    {
      "cell_type": "code",
      "execution_count": null,
      "metadata": {
        "id": "OFEvsRiMNx9x"
      },
      "outputs": [],
      "source": [
        "import pandas as pd"
      ]
    },
    {
      "cell_type": "markdown",
      "source": [
        "import my data frame and putting on a variable called weather"
      ],
      "metadata": {
        "id": "eb8sfn92b2cB"
      }
    },
    {
      "cell_type": "code",
      "source": [
        "weather = pd.read_csv('./weather.csv', index_col=\"DATE\")"
      ],
      "metadata": {
        "id": "tESUoEds832q"
      },
      "execution_count": null,
      "outputs": []
    },
    {
      "cell_type": "code",
      "source": [
        "weather"
      ],
      "metadata": {
        "id": "oA5lJPvL9Iox"
      },
      "execution_count": null,
      "outputs": []
    },
    {
      "cell_type": "markdown",
      "source": [
        "Looking for all null values, adding all they after divide to amount columns"
      ],
      "metadata": {
        "id": "A-IE_2LEcEMC"
      }
    },
    {
      "cell_type": "code",
      "source": [
        "weather.apply(pd.isnull).sum()/weather.shape[0]"
      ],
      "metadata": {
        "id": "IOl2JVxN9SqJ"
      },
      "execution_count": null,
      "outputs": []
    },
    {
      "cell_type": "markdown",
      "source": [
        "Now calling some weather magnitudes copping to a new variable and named \"core_weather\" . we do this to manipulate data no afecet main data frame\n",
        "\n"
      ],
      "metadata": {
        "id": "GacPFR7_c3hj"
      }
    },
    {
      "cell_type": "code",
      "source": [
        "core_weather = weather[[\"PRCP\", \"SNOW\", \"SNWD\", \"TMAX\", \"TMIN\"]].copy()"
      ],
      "metadata": {
        "id": "Z9PM1HkW9vXK"
      },
      "execution_count": null,
      "outputs": []
    },
    {
      "cell_type": "markdown",
      "source": [
        "after renamed all collumns tiltes to better understand"
      ],
      "metadata": {
        "id": "Ir2w3EMNe-ur"
      }
    },
    {
      "cell_type": "code",
      "source": [
        "core_weather.columns = [\"precip\", \"snow\", \"snow_depth\", \"temp_max\", \"temp_min\"]"
      ],
      "metadata": {
        "id": "kkYf5-NSCK32"
      },
      "execution_count": null,
      "outputs": []
    },
    {
      "cell_type": "code",
      "source": [
        "core_weather"
      ],
      "metadata": {
        "id": "4mLX98GnChuu"
      },
      "execution_count": null,
      "outputs": []
    },
    {
      "cell_type": "markdown",
      "source": [],
      "metadata": {
        "id": "pvEexD77jwgV"
      }
    },
    {
      "cell_type": "code",
      "source": [
        "core_weather.apply(pd.isnull).sum()/core_weather.shape[0]"
      ],
      "metadata": {
        "id": "EY0qJExiCmXl"
      },
      "execution_count": null,
      "outputs": []
    },
    {
      "cell_type": "markdown",
      "source": [
        "checking all values on snow collumn"
      ],
      "metadata": {
        "id": "fU5a5SWEprzW"
      }
    },
    {
      "cell_type": "code",
      "source": [
        "core_weather[\"snow\"].value_counts()"
      ],
      "metadata": {
        "id": "Px6luDCRCys5"
      },
      "execution_count": null,
      "outputs": []
    },
    {
      "cell_type": "markdown",
      "source": [
        "Deleting \"snow\" collumn"
      ],
      "metadata": {
        "id": "CU_uwrSVt64O"
      }
    },
    {
      "cell_type": "code",
      "source": [
        "del core_weather[\"snow\"]"
      ],
      "metadata": {
        "id": "q37njeSTDtMb"
      },
      "execution_count": null,
      "outputs": []
    },
    {
      "cell_type": "markdown",
      "source": [
        "Doing same with \"snow_depth\""
      ],
      "metadata": {
        "id": "-g92lmqkuLCl"
      }
    },
    {
      "cell_type": "code",
      "source": [
        "core_weather[\"snow_depth\"].value_counts()\n"
      ],
      "metadata": {
        "id": "5KsH71sxDgE6"
      },
      "execution_count": null,
      "outputs": []
    },
    {
      "cell_type": "code",
      "source": [
        "del core_weather[\"snow_depth\"]"
      ],
      "metadata": {
        "id": "v_Wsy0XBEMjn"
      },
      "execution_count": null,
      "outputs": []
    },
    {
      "cell_type": "markdown",
      "source": [
        "Return  \"core_weather\" but just when some rows in precip is null"
      ],
      "metadata": {
        "id": "WuRfv7yH1rpl"
      }
    },
    {
      "cell_type": "code",
      "source": [
        "core_weather[pd.isnull(core_weather[\"precip\"])]"
      ],
      "metadata": {
        "id": "IIMIdq5JEZZT"
      },
      "execution_count": null,
      "outputs": []
    },
    {
      "cell_type": "markdown",
      "source": [
        "checking all duplicate values on index collumn\n",
        "and calling just no duplicate values"
      ],
      "metadata": {
        "id": "1X1OMzu42MpU"
      }
    },
    {
      "cell_type": "code",
      "source": [
        "core_weather = core_weather[~core_weather.index.duplicated()]"
      ],
      "metadata": {
        "id": "wDz9sw6JEj4x"
      },
      "execution_count": null,
      "outputs": []
    },
    {
      "cell_type": "code",
      "source": [
        "core_weather"
      ],
      "metadata": {
        "id": "hvPaleGi3LRM"
      },
      "execution_count": null,
      "outputs": []
    },
    {
      "cell_type": "markdown",
      "source": [
        "Grouping by date"
      ],
      "metadata": {
        "id": "PAEL75783piG"
      }
    },
    {
      "cell_type": "code",
      "source": [
        "core_weather.loc[\"2024-01-12\":\"2024-03-29\", :]"
      ],
      "metadata": {
        "id": "ysdmFKqQG7My"
      },
      "execution_count": null,
      "outputs": []
    },
    {
      "cell_type": "code",
      "source": [
        "core_weather[\"precip\"].value_counts()"
      ],
      "metadata": {
        "id": "_TPg-QxbHWR7"
      },
      "execution_count": null,
      "outputs": []
    },
    {
      "cell_type": "markdown",
      "source": [
        "exchaging null values for 0"
      ],
      "metadata": {
        "id": "QY8LipOt9Bfa"
      }
    },
    {
      "cell_type": "code",
      "source": [
        "core_weather[\"precip\"] = core_weather[\"precip\"].fillna(0)"
      ],
      "metadata": {
        "id": "QP4TTwupJVcD"
      },
      "execution_count": null,
      "outputs": []
    },
    {
      "cell_type": "code",
      "source": [
        "core_weather[pd.isnull(core_weather[\"temp_min\"])]"
      ],
      "metadata": {
        "id": "Mx9i07lMJt8b"
      },
      "execution_count": null,
      "outputs": []
    },
    {
      "cell_type": "markdown",
      "source": [
        "using \"ffill\" to filling null values"
      ],
      "metadata": {
        "id": "S3mVeKyG-yP0"
      }
    },
    {
      "cell_type": "code",
      "source": [
        "core_weather = core_weather.fillna(method=\"ffill\")"
      ],
      "metadata": {
        "id": "IElQmik-PbD8"
      },
      "execution_count": null,
      "outputs": []
    },
    {
      "cell_type": "markdown",
      "source": [
        "Checking again how much null values has"
      ],
      "metadata": {
        "id": "foQoO2oM_DjL"
      }
    },
    {
      "cell_type": "code",
      "source": [
        "core_weather.apply(pd.isnull).sum()/core_weather.shape[0]"
      ],
      "metadata": {
        "id": "Z0woIDvPTT7E"
      },
      "execution_count": null,
      "outputs": []
    },
    {
      "cell_type": "code",
      "source": [
        "core_weather.index"
      ],
      "metadata": {
        "id": "LwwjbHiVTp1U"
      },
      "execution_count": null,
      "outputs": []
    },
    {
      "cell_type": "markdown",
      "source": [
        "changig index data type if was string now this arr type \"datatime64\""
      ],
      "metadata": {
        "id": "6Hx8GYfcAEmr"
      }
    },
    {
      "cell_type": "code",
      "source": [
        "core_weather.index = pd.to_datetime(core_weather.index)"
      ],
      "metadata": {
        "id": "vzRJxd-ATy0D"
      },
      "execution_count": null,
      "outputs": []
    },
    {
      "cell_type": "code",
      "source": [
        "core_weather.index"
      ],
      "metadata": {
        "id": "M-mWn4w8UHwF"
      },
      "execution_count": null,
      "outputs": []
    },
    {
      "cell_type": "code",
      "source": [
        "core_weather.index.year"
      ],
      "metadata": {
        "id": "7wExlpBmUPxL"
      },
      "execution_count": null,
      "outputs": []
    },
    {
      "cell_type": "code",
      "source": [
        "core_weather.index.month"
      ],
      "metadata": {
        "id": "_H4XC9URUdRE"
      },
      "execution_count": null,
      "outputs": []
    }
  ]
}